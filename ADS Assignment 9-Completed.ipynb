{
 "cells": [
  {
   "cell_type": "code",
   "execution_count": 20,
   "metadata": {},
   "outputs": [],
   "source": [
    "import numpy as np # linear algebra\r\n",
    "import pandas as pd # data processing, CSV file I/O (e.g. pd.read_csv)\r\n",
    "import plotly.express as px # for visualization \r\n",
    "import plotly.offline as py \r\n",
    "import plotly.graph_objs as go \r\n",
    "from plotly.figure_factory import create_table # for creating nice table \r\n",
    "# for plotting\r\n",
    "import matplotlib.pyplot as plt\r\n",
    "%matplotlib inline\r\n",
    "\r\n",
    "import seaborn as sns"
   ]
  },
  {
   "cell_type": "markdown",
   "metadata": {},
   "source": [
    "QUESTION 1"
   ]
  },
  {
   "cell_type": "code",
   "execution_count": 2,
   "metadata": {},
   "outputs": [
    {
     "name": "stdout",
     "output_type": "stream",
     "text": [
      "(303, 14)\n"
     ]
    },
    {
     "data": {
      "text/html": "<div>\n<style scoped>\n    .dataframe tbody tr th:only-of-type {\n        vertical-align: middle;\n    }\n\n    .dataframe tbody tr th {\n        vertical-align: top;\n    }\n\n    .dataframe thead th {\n        text-align: right;\n    }\n</style>\n<table border=\"1\" class=\"dataframe\">\n  <thead>\n    <tr style=\"text-align: right;\">\n      <th></th>\n      <th>age</th>\n      <th>sex</th>\n      <th>cp</th>\n      <th>trestbps</th>\n      <th>chol</th>\n      <th>fbs</th>\n      <th>restecg</th>\n      <th>thalach</th>\n      <th>exang</th>\n      <th>oldpeak</th>\n      <th>slope</th>\n      <th>ca</th>\n      <th>thal</th>\n      <th>target</th>\n    </tr>\n  </thead>\n  <tbody>\n    <tr>\n      <th>0</th>\n      <td>63</td>\n      <td>1</td>\n      <td>3</td>\n      <td>145</td>\n      <td>233</td>\n      <td>1</td>\n      <td>0</td>\n      <td>150</td>\n      <td>0</td>\n      <td>2.3</td>\n      <td>0</td>\n      <td>0</td>\n      <td>1</td>\n      <td>1</td>\n    </tr>\n    <tr>\n      <th>1</th>\n      <td>37</td>\n      <td>1</td>\n      <td>2</td>\n      <td>130</td>\n      <td>250</td>\n      <td>0</td>\n      <td>1</td>\n      <td>187</td>\n      <td>0</td>\n      <td>3.5</td>\n      <td>0</td>\n      <td>0</td>\n      <td>2</td>\n      <td>1</td>\n    </tr>\n    <tr>\n      <th>2</th>\n      <td>41</td>\n      <td>0</td>\n      <td>1</td>\n      <td>130</td>\n      <td>204</td>\n      <td>0</td>\n      <td>0</td>\n      <td>172</td>\n      <td>0</td>\n      <td>1.4</td>\n      <td>2</td>\n      <td>0</td>\n      <td>2</td>\n      <td>1</td>\n    </tr>\n    <tr>\n      <th>3</th>\n      <td>56</td>\n      <td>1</td>\n      <td>1</td>\n      <td>120</td>\n      <td>236</td>\n      <td>0</td>\n      <td>1</td>\n      <td>178</td>\n      <td>0</td>\n      <td>0.8</td>\n      <td>2</td>\n      <td>0</td>\n      <td>2</td>\n      <td>1</td>\n    </tr>\n    <tr>\n      <th>4</th>\n      <td>57</td>\n      <td>0</td>\n      <td>0</td>\n      <td>120</td>\n      <td>354</td>\n      <td>0</td>\n      <td>1</td>\n      <td>163</td>\n      <td>1</td>\n      <td>0.6</td>\n      <td>2</td>\n      <td>0</td>\n      <td>2</td>\n      <td>1</td>\n    </tr>\n  </tbody>\n</table>\n</div>",
      "text/plain": "   age  sex  cp  trestbps  chol  fbs  restecg  thalach  exang  oldpeak  slope  \\\n0   63    1   3       145   233    1        0      150      0      2.3      0   \n1   37    1   2       130   250    0        1      187      0      3.5      0   \n2   41    0   1       130   204    0        0      172      0      1.4      2   \n3   56    1   1       120   236    0        1      178      0      0.8      2   \n4   57    0   0       120   354    0        1      163      1      0.6      2   \n\n   ca  thal  target  \n0   0     1       1  \n1   0     2       1  \n2   0     2       1  \n3   0     2       1  \n4   0     2       1  "
     },
     "execution_count": 2,
     "metadata": {},
     "output_type": "execute_result"
    }
   ],
   "source": [
    "df = pd.read_csv('heart.csv')\r\n",
    "print(df.shape)\r\n",
    "df.head()"
   ]
  },
  {
   "cell_type": "code",
   "execution_count": 3,
   "metadata": {},
   "outputs": [
    {
     "name": "stdout",
     "output_type": "stream",
     "text": [
      "<class 'pandas.core.frame.DataFrame'>\n",
      "RangeIndex: 303 entries, 0 to 302\n",
      "Data columns (total 14 columns):\n",
      " #   Column    Non-Null Count  Dtype  \n",
      "---  ------    --------------  -----  \n",
      " 0   age       303 non-null    int64  \n",
      " 1   sex       303 non-null    int64  \n",
      " 2   cp        303 non-null    int64  \n",
      " 3   trestbps  303 non-null    int64  \n",
      " 4   chol      303 non-null    int64  \n",
      " 5   fbs       303 non-null    int64  \n",
      " 6   restecg   303 non-null    int64  \n",
      " 7   thalach   303 non-null    int64  \n",
      " 8   exang     303 non-null    int64  \n",
      " 9   oldpeak   303 non-null    float64\n",
      " 10  slope     303 non-null    int64  \n",
      " 11  ca        303 non-null    int64  \n",
      " 12  thal      303 non-null    int64  \n",
      " 13  target    303 non-null    int64  \n",
      "dtypes: float64(1), int64(13)\n",
      "memory usage: 33.3 KB\n"
     ]
    }
   ],
   "source": [
    "df.info()"
   ]
  },
  {
   "cell_type": "code",
   "execution_count": 4,
   "metadata": {},
   "outputs": [
    {
     "data": {
      "text/html": "<div>\n<style scoped>\n    .dataframe tbody tr th:only-of-type {\n        vertical-align: middle;\n    }\n\n    .dataframe tbody tr th {\n        vertical-align: top;\n    }\n\n    .dataframe thead th {\n        text-align: right;\n    }\n</style>\n<table border=\"1\" class=\"dataframe\">\n  <thead>\n    <tr style=\"text-align: right;\">\n      <th></th>\n      <th>age</th>\n      <th>sex</th>\n      <th>cp</th>\n      <th>trestbps</th>\n      <th>chol</th>\n      <th>fbs</th>\n      <th>restecg</th>\n      <th>thalach</th>\n      <th>exang</th>\n      <th>oldpeak</th>\n      <th>slope</th>\n      <th>ca</th>\n      <th>thal</th>\n      <th>target</th>\n    </tr>\n  </thead>\n  <tbody>\n    <tr>\n      <th>count</th>\n      <td>303.000000</td>\n      <td>303.000000</td>\n      <td>303.000000</td>\n      <td>303.000000</td>\n      <td>303.000000</td>\n      <td>303.000000</td>\n      <td>303.000000</td>\n      <td>303.000000</td>\n      <td>303.000000</td>\n      <td>303.000000</td>\n      <td>303.000000</td>\n      <td>303.000000</td>\n      <td>303.000000</td>\n      <td>303.000000</td>\n    </tr>\n    <tr>\n      <th>mean</th>\n      <td>54.366337</td>\n      <td>0.683168</td>\n      <td>0.966997</td>\n      <td>131.623762</td>\n      <td>246.264026</td>\n      <td>0.148515</td>\n      <td>0.528053</td>\n      <td>149.646865</td>\n      <td>0.326733</td>\n      <td>1.039604</td>\n      <td>1.399340</td>\n      <td>0.729373</td>\n      <td>2.313531</td>\n      <td>0.544554</td>\n    </tr>\n    <tr>\n      <th>std</th>\n      <td>9.082101</td>\n      <td>0.466011</td>\n      <td>1.032052</td>\n      <td>17.538143</td>\n      <td>51.830751</td>\n      <td>0.356198</td>\n      <td>0.525860</td>\n      <td>22.905161</td>\n      <td>0.469794</td>\n      <td>1.161075</td>\n      <td>0.616226</td>\n      <td>1.022606</td>\n      <td>0.612277</td>\n      <td>0.498835</td>\n    </tr>\n    <tr>\n      <th>min</th>\n      <td>29.000000</td>\n      <td>0.000000</td>\n      <td>0.000000</td>\n      <td>94.000000</td>\n      <td>126.000000</td>\n      <td>0.000000</td>\n      <td>0.000000</td>\n      <td>71.000000</td>\n      <td>0.000000</td>\n      <td>0.000000</td>\n      <td>0.000000</td>\n      <td>0.000000</td>\n      <td>0.000000</td>\n      <td>0.000000</td>\n    </tr>\n    <tr>\n      <th>25%</th>\n      <td>47.500000</td>\n      <td>0.000000</td>\n      <td>0.000000</td>\n      <td>120.000000</td>\n      <td>211.000000</td>\n      <td>0.000000</td>\n      <td>0.000000</td>\n      <td>133.500000</td>\n      <td>0.000000</td>\n      <td>0.000000</td>\n      <td>1.000000</td>\n      <td>0.000000</td>\n      <td>2.000000</td>\n      <td>0.000000</td>\n    </tr>\n    <tr>\n      <th>50%</th>\n      <td>55.000000</td>\n      <td>1.000000</td>\n      <td>1.000000</td>\n      <td>130.000000</td>\n      <td>240.000000</td>\n      <td>0.000000</td>\n      <td>1.000000</td>\n      <td>153.000000</td>\n      <td>0.000000</td>\n      <td>0.800000</td>\n      <td>1.000000</td>\n      <td>0.000000</td>\n      <td>2.000000</td>\n      <td>1.000000</td>\n    </tr>\n    <tr>\n      <th>75%</th>\n      <td>61.000000</td>\n      <td>1.000000</td>\n      <td>2.000000</td>\n      <td>140.000000</td>\n      <td>274.500000</td>\n      <td>0.000000</td>\n      <td>1.000000</td>\n      <td>166.000000</td>\n      <td>1.000000</td>\n      <td>1.600000</td>\n      <td>2.000000</td>\n      <td>1.000000</td>\n      <td>3.000000</td>\n      <td>1.000000</td>\n    </tr>\n    <tr>\n      <th>max</th>\n      <td>77.000000</td>\n      <td>1.000000</td>\n      <td>3.000000</td>\n      <td>200.000000</td>\n      <td>564.000000</td>\n      <td>1.000000</td>\n      <td>2.000000</td>\n      <td>202.000000</td>\n      <td>1.000000</td>\n      <td>6.200000</td>\n      <td>2.000000</td>\n      <td>4.000000</td>\n      <td>3.000000</td>\n      <td>1.000000</td>\n    </tr>\n  </tbody>\n</table>\n</div>",
      "text/plain": "              age         sex          cp    trestbps        chol         fbs  \\\ncount  303.000000  303.000000  303.000000  303.000000  303.000000  303.000000   \nmean    54.366337    0.683168    0.966997  131.623762  246.264026    0.148515   \nstd      9.082101    0.466011    1.032052   17.538143   51.830751    0.356198   \nmin     29.000000    0.000000    0.000000   94.000000  126.000000    0.000000   \n25%     47.500000    0.000000    0.000000  120.000000  211.000000    0.000000   \n50%     55.000000    1.000000    1.000000  130.000000  240.000000    0.000000   \n75%     61.000000    1.000000    2.000000  140.000000  274.500000    0.000000   \nmax     77.000000    1.000000    3.000000  200.000000  564.000000    1.000000   \n\n          restecg     thalach       exang     oldpeak       slope          ca  \\\ncount  303.000000  303.000000  303.000000  303.000000  303.000000  303.000000   \nmean     0.528053  149.646865    0.326733    1.039604    1.399340    0.729373   \nstd      0.525860   22.905161    0.469794    1.161075    0.616226    1.022606   \nmin      0.000000   71.000000    0.000000    0.000000    0.000000    0.000000   \n25%      0.000000  133.500000    0.000000    0.000000    1.000000    0.000000   \n50%      1.000000  153.000000    0.000000    0.800000    1.000000    0.000000   \n75%      1.000000  166.000000    1.000000    1.600000    2.000000    1.000000   \nmax      2.000000  202.000000    1.000000    6.200000    2.000000    4.000000   \n\n             thal      target  \ncount  303.000000  303.000000  \nmean     2.313531    0.544554  \nstd      0.612277    0.498835  \nmin      0.000000    0.000000  \n25%      2.000000    0.000000  \n50%      2.000000    1.000000  \n75%      3.000000    1.000000  \nmax      3.000000    1.000000  "
     },
     "execution_count": 4,
     "metadata": {},
     "output_type": "execute_result"
    }
   ],
   "source": [
    "df.describe()"
   ]
  },
  {
   "cell_type": "code",
   "execution_count": 7,
   "metadata": {},
   "outputs": [
    {
     "data": {
      "text/plain": "age         False\nsex         False\ncp          False\ntrestbps    False\nchol        False\nfbs         False\nrestecg     False\nthalach     False\nexang       False\noldpeak     False\nslope       False\nca          False\nthal        False\ntarget      False\ndtype: bool"
     },
     "execution_count": 7,
     "metadata": {},
     "output_type": "execute_result"
    }
   ],
   "source": [
    "df.isna().any()"
   ]
  },
  {
   "cell_type": "code",
   "execution_count": 8,
   "metadata": {},
   "outputs": [
    {
     "data": {
      "text/plain": "Index(['age', 'sex', 'cp', 'trestbps', 'chol', 'fbs', 'restecg', 'thalach',\n       'exang', 'oldpeak', 'slope', 'ca', 'thal', 'target'],\n      dtype='object')"
     },
     "execution_count": 8,
     "metadata": {},
     "output_type": "execute_result"
    }
   ],
   "source": [
    "df.columns"
   ]
  },
  {
   "cell_type": "code",
   "execution_count": null,
   "metadata": {},
   "outputs": [],
   "source": [
    "# Find the columns which contain strings\r\n",
    "for label, content in df.items():\r\n",
    "    if pd.api.types.is_string_dtype(content):\r\n",
    "        print(label)"
   ]
  },
  {
   "cell_type": "markdown",
   "metadata": {},
   "source": [
    "QUESTION 2"
   ]
  },
  {
   "cell_type": "code",
   "execution_count": 11,
   "metadata": {},
   "outputs": [
    {
     "name": "stdout",
     "output_type": "stream",
     "text": [
      "sex  values:  [1 0]\n",
      "cp  values:  [3 2 1 0]\n",
      "fbs  values:  [1 0]\n",
      "restecg  values:  [0 1 2]\n",
      "exang  values:  [0 1]\n",
      "slope  values:  [0 2 1]\n",
      "ca  values:  [0 2 1 3 4]\n",
      "thal  values:  [1 2 3 0]\n",
      "target  values:  [1 0]\n",
      "\n",
      "There are 9 discrete variables\n"
     ]
    }
   ],
   "source": [
    "# the discrete variables\r\n",
    "numerical_discrete = []\r\n",
    "\r\n",
    "for var in df.columns:\r\n",
    "    if len(df[var].unique())<10 :\r\n",
    "        print(var, ' values: ', df[var].unique())\r\n",
    "        numerical_discrete.append(var)\r\n",
    "print()\r\n",
    "print('There are {} discrete variables'.format(len(numerical_discrete)))"
   ]
  },
  {
   "cell_type": "code",
   "execution_count": 17,
   "metadata": {},
   "outputs": [
    {
     "name": "stdout",
     "output_type": "stream",
     "text": [
      "the continous vars are:\n",
      "age\n",
      "trestbps\n",
      "chol\n",
      "thalach\n",
      "oldpeak\n"
     ]
    }
   ],
   "source": [
    "numerical_continous = [var for var in df.columns if var not in numerical_discrete ]\r\n",
    "print('the continous vars are:')\r\n",
    "for var in numerical_continous:\r\n",
    "    print(var)\r\n"
   ]
  },
  {
   "cell_type": "markdown",
   "metadata": {},
   "source": [
    "QUESTION 3"
   ]
  },
  {
   "cell_type": "code",
   "execution_count": 18,
   "metadata": {},
   "outputs": [],
   "source": [
    "#Option: Z-score or IQR, z-score only for Gaugassian distribution => IQR\r\n",
    "\r\n",
    "def remove_outlier(col):\r\n",
    "    q25 = col.quantile(0.25)\r\n",
    "    q75 = col.quantile(0.75)\r\n",
    "    iqr = q75 - q25\r\n",
    "    cutoff = iqr*1.5\r\n",
    "    lower = q25 - cutoff\r\n",
    "    upper = q75 + cutoff\r\n",
    "    return lower, upper\r\n"
   ]
  },
  {
   "cell_type": "code",
   "execution_count": 31,
   "metadata": {},
   "outputs": [
    {
     "data": {
      "text/plain": "{'whiskers': [<matplotlib.lines.Line2D at 0x24d303c45e0>,\n  <matplotlib.lines.Line2D at 0x24d3049ce50>],\n 'caps': [<matplotlib.lines.Line2D at 0x24d307b93a0>,\n  <matplotlib.lines.Line2D at 0x24d307d2250>],\n 'boxes': [<matplotlib.lines.Line2D at 0x24d303c57f0>],\n 'medians': [<matplotlib.lines.Line2D at 0x24d304a4a00>],\n 'fliers': [<matplotlib.lines.Line2D at 0x24d307d4a90>],\n 'means': []}"
     },
     "execution_count": 31,
     "metadata": {},
     "output_type": "execute_result"
    },
    {
     "data": {
      "image/png": "[encoded data removed]",
      "text/plain": "<Figure size 720x504 with 4 Axes>"
     },
     "metadata": {
      "needs_background": "light"
     },
     "output_type": "display_data"
    }
   ],
   "source": [
    "fig, ax = plt.subplots(2,2,figsize=(10,7))\r\n",
    "\r\n",
    "ax[0][0].boxplot(df.oldpeak)\r\n",
    "ax[0][1].boxplot(df.trestbps)\r\n",
    "ax[1][0].boxplot(df.chol)\r\n",
    "ax[1][1].boxplot(df.thalach)"
   ]
  },
  {
   "cell_type": "code",
   "execution_count": 34,
   "metadata": {},
   "outputs": [],
   "source": [
    "\r\n",
    "lower, upper = remove_outlier(df.oldpeak)\r\n",
    "\r\n",
    "df = df.loc[(df.oldpeak > lower) & (df.oldpeak < upper)]"
   ]
  },
  {
   "cell_type": "code",
   "execution_count": 36,
   "metadata": {},
   "outputs": [],
   "source": [
    "lower, upper = remove_outlier(df.trestbps)\r\n",
    "\r\n",
    "df = df.loc[(df.trestbps > lower) & (df.trestbps < upper)]"
   ]
  },
  {
   "cell_type": "code",
   "execution_count": 37,
   "metadata": {},
   "outputs": [],
   "source": [
    "lower, upper = remove_outlier(df.chol)\r\n",
    "\r\n",
    "df = df.loc[(df.chol > lower) & (df.chol < upper)]"
   ]
  },
  {
   "cell_type": "code",
   "execution_count": 38,
   "metadata": {},
   "outputs": [],
   "source": [
    "lower, upper = remove_outlier(df.thalach)\r\n",
    "\r\n",
    "df = df.loc[(df.thalach > lower) & (df.thalach < upper)]"
   ]
  },
  {
   "cell_type": "code",
   "execution_count": 39,
   "metadata": {},
   "outputs": [
    {
     "data": {
      "text/plain": "{'whiskers': [<matplotlib.lines.Line2D at 0x24d2c1f7f40>,\n  <matplotlib.lines.Line2D at 0x24d2d73b7c0>],\n 'caps': [<matplotlib.lines.Line2D at 0x24d2d73b760>,\n  <matplotlib.lines.Line2D at 0x24d2d73b220>],\n 'boxes': [<matplotlib.lines.Line2D at 0x24d2c1f7820>],\n 'medians': [<matplotlib.lines.Line2D at 0x24d2d73bc70>],\n 'fliers': [<matplotlib.lines.Line2D at 0x24d2d73b610>],\n 'means': []}"
     },
     "execution_count": 39,
     "metadata": {},
     "output_type": "execute_result"
    },
    {
     "data": {
      "image/png": "[encoded data removed]",
      "text/plain": "<Figure size 720x504 with 4 Axes>"
     },
     "metadata": {
      "needs_background": "light"
     },
     "output_type": "display_data"
    }
   ],
   "source": [
    "fig, ax = plt.subplots(2,2,figsize=(10,7))\r\n",
    "\r\n",
    "ax[0][0].boxplot(df.oldpeak)\r\n",
    "ax[0][1].boxplot(df.trestbps)\r\n",
    "ax[1][0].boxplot(df.chol)\r\n",
    "ax[1][1].boxplot(df.thalach)"
   ]
  },
  {
   "cell_type": "code",
   "execution_count": null,
   "metadata": {},
   "outputs": [],
   "source": [
    "QUESTION 4"
   ]
  },
  {
   "cell_type": "code",
   "execution_count": 40,
   "metadata": {},
   "outputs": [
    {
     "data": {
      "text/plain": "(array([ 1., 11., 33., 38., 35., 55., 55., 35., 13.,  3.]),\n array([29. , 33.8, 38.6, 43.4, 48.2, 53. , 57.8, 62.6, 67.4, 72.2, 77. ]),\n <BarContainer object of 10 artists>)"
     },
     "execution_count": 40,
     "metadata": {},
     "output_type": "execute_result"
    },
    {
     "data": {
      "image/png": "[encoded data removed]",
      "text/plain": "<Figure size 864x576 with 6 Axes>"
     },
     "metadata": {
      "needs_background": "light"
     },
     "output_type": "display_data"
    }
   ],
   "source": [
    "#2.1.3. Continuous variables: annual_income, age, year_of_employment\r\n",
    "\r\n",
    "fig, ax = plt.subplots(3,2,figsize=(12,8))\r\n",
    "\r\n",
    "\r\n",
    "\r\n",
    "ax[0][0].hist(df.oldpeak)\r\n",
    "ax[0][1].hist(df.trestbps)\r\n",
    "ax[1][0].hist(df.chol)\r\n",
    "ax[1][1].hist(df.thalach)\r\n",
    "ax[2][0].hist(df.age)"
   ]
  },
  {
   "cell_type": "code",
   "execution_count": 41,
   "metadata": {},
   "outputs": [],
   "source": [
    "df['age_binned'] = pd.qcut(df.age, q=[0, .25, .50, .75, 1])\r\n",
    "df['trestbps_binned'] = pd.qcut(df.trestbps, q=[0, .25, .50, .75, 1])\r\n",
    "df['chol_binned'] = pd.qcut(df.chol, q=[0, .25, .50, .75, 1])\r\n",
    "df['thalach_binned'] = pd.qcut(df.thalach, q=[0, .25, .50, .75, 1])"
   ]
  },
  {
   "cell_type": "code",
   "execution_count": 42,
   "metadata": {},
   "outputs": [],
   "source": [
    "df_original=df.copy() #ORIGINAL DATA "
   ]
  },
  {
   "cell_type": "code",
   "execution_count": 86,
   "metadata": {},
   "outputs": [],
   "source": [
    "df=df_original.copy()"
   ]
  },
  {
   "cell_type": "code",
   "execution_count": 87,
   "metadata": {},
   "outputs": [],
   "source": [
    "df.drop(columns=['age', 'trestbps', 'chol', 'thalach'], inplace=True)"
   ]
  },
  {
   "cell_type": "markdown",
   "metadata": {},
   "source": [
    "QUESTION 5"
   ]
  },
  {
   "cell_type": "code",
   "execution_count": 88,
   "metadata": {},
   "outputs": [
    {
     "name": "stdout",
     "output_type": "stream",
     "text": [
      "<class 'pandas.core.frame.DataFrame'>\n",
      "Int64Index: 279 entries, 0 to 302\n",
      "Data columns (total 14 columns):\n",
      " #   Column           Non-Null Count  Dtype   \n",
      "---  ------           --------------  -----   \n",
      " 0   sex              279 non-null    int64   \n",
      " 1   cp               279 non-null    int64   \n",
      " 2   fbs              279 non-null    int64   \n",
      " 3   restecg          279 non-null    int64   \n",
      " 4   exang            279 non-null    int64   \n",
      " 5   oldpeak          279 non-null    float64 \n",
      " 6   slope            279 non-null    int64   \n",
      " 7   ca               279 non-null    int64   \n",
      " 8   thal             279 non-null    int64   \n",
      " 9   target           279 non-null    int64   \n",
      " 10  age_binned       279 non-null    category\n",
      " 11  trestbps_binned  279 non-null    category\n",
      " 12  chol_binned      279 non-null    category\n",
      " 13  thalach_binned   279 non-null    category\n",
      "dtypes: category(4), float64(1), int64(9)\n",
      "memory usage: 34.1 KB\n"
     ]
    }
   ],
   "source": [
    "df.info()"
   ]
  },
  {
   "cell_type": "code",
   "execution_count": 89,
   "metadata": {},
   "outputs": [
    {
     "data": {
      "text/html": "<div>\n<style scoped>\n    .dataframe tbody tr th:only-of-type {\n        vertical-align: middle;\n    }\n\n    .dataframe tbody tr th {\n        vertical-align: top;\n    }\n\n    .dataframe thead th {\n        text-align: right;\n    }\n</style>\n<table border=\"1\" class=\"dataframe\">\n  <thead>\n    <tr style=\"text-align: right;\">\n      <th></th>\n      <th>sex</th>\n      <th>cp</th>\n      <th>fbs</th>\n      <th>restecg</th>\n      <th>exang</th>\n      <th>oldpeak</th>\n      <th>slope</th>\n      <th>ca</th>\n      <th>thal</th>\n      <th>target</th>\n      <th>age_binned</th>\n      <th>trestbps_binned</th>\n      <th>chol_binned</th>\n      <th>thalach_binned</th>\n    </tr>\n  </thead>\n  <tbody>\n    <tr>\n      <th>0</th>\n      <td>1</td>\n      <td>3</td>\n      <td>1</td>\n      <td>0</td>\n      <td>0</td>\n      <td>2.3</td>\n      <td>0</td>\n      <td>0</td>\n      <td>1</td>\n      <td>1</td>\n      <td>(60.0, 77.0]</td>\n      <td>(140.0, 165.0]</td>\n      <td>(209.5, 239.0]</td>\n      <td>(132.5, 153.0]</td>\n    </tr>\n    <tr>\n      <th>1</th>\n      <td>1</td>\n      <td>2</td>\n      <td>0</td>\n      <td>1</td>\n      <td>0</td>\n      <td>3.5</td>\n      <td>0</td>\n      <td>0</td>\n      <td>2</td>\n      <td>1</td>\n      <td>(28.999, 46.0]</td>\n      <td>(120.0, 130.0]</td>\n      <td>(239.0, 269.5]</td>\n      <td>(168.0, 202.0]</td>\n    </tr>\n    <tr>\n      <th>2</th>\n      <td>0</td>\n      <td>1</td>\n      <td>0</td>\n      <td>0</td>\n      <td>0</td>\n      <td>1.4</td>\n      <td>2</td>\n      <td>0</td>\n      <td>2</td>\n      <td>1</td>\n      <td>(28.999, 46.0]</td>\n      <td>(120.0, 130.0]</td>\n      <td>(125.999, 209.5]</td>\n      <td>(168.0, 202.0]</td>\n    </tr>\n    <tr>\n      <th>3</th>\n      <td>1</td>\n      <td>1</td>\n      <td>0</td>\n      <td>1</td>\n      <td>0</td>\n      <td>0.8</td>\n      <td>2</td>\n      <td>0</td>\n      <td>2</td>\n      <td>1</td>\n      <td>(54.0, 60.0]</td>\n      <td>(93.999, 120.0]</td>\n      <td>(209.5, 239.0]</td>\n      <td>(168.0, 202.0]</td>\n    </tr>\n    <tr>\n      <th>4</th>\n      <td>0</td>\n      <td>0</td>\n      <td>0</td>\n      <td>1</td>\n      <td>1</td>\n      <td>0.6</td>\n      <td>2</td>\n      <td>0</td>\n      <td>2</td>\n      <td>1</td>\n      <td>(54.0, 60.0]</td>\n      <td>(93.999, 120.0]</td>\n      <td>(269.5, 360.0]</td>\n      <td>(153.0, 168.0]</td>\n    </tr>\n    <tr>\n      <th>...</th>\n      <td>...</td>\n      <td>...</td>\n      <td>...</td>\n      <td>...</td>\n      <td>...</td>\n      <td>...</td>\n      <td>...</td>\n      <td>...</td>\n      <td>...</td>\n      <td>...</td>\n      <td>...</td>\n      <td>...</td>\n      <td>...</td>\n      <td>...</td>\n    </tr>\n    <tr>\n      <th>298</th>\n      <td>0</td>\n      <td>0</td>\n      <td>0</td>\n      <td>1</td>\n      <td>1</td>\n      <td>0.2</td>\n      <td>1</td>\n      <td>0</td>\n      <td>3</td>\n      <td>0</td>\n      <td>(54.0, 60.0]</td>\n      <td>(130.0, 140.0]</td>\n      <td>(239.0, 269.5]</td>\n      <td>(87.999, 132.5]</td>\n    </tr>\n    <tr>\n      <th>299</th>\n      <td>1</td>\n      <td>3</td>\n      <td>0</td>\n      <td>1</td>\n      <td>0</td>\n      <td>1.2</td>\n      <td>1</td>\n      <td>0</td>\n      <td>3</td>\n      <td>0</td>\n      <td>(28.999, 46.0]</td>\n      <td>(93.999, 120.0]</td>\n      <td>(239.0, 269.5]</td>\n      <td>(87.999, 132.5]</td>\n    </tr>\n    <tr>\n      <th>300</th>\n      <td>1</td>\n      <td>0</td>\n      <td>1</td>\n      <td>1</td>\n      <td>0</td>\n      <td>3.4</td>\n      <td>1</td>\n      <td>2</td>\n      <td>3</td>\n      <td>0</td>\n      <td>(60.0, 77.0]</td>\n      <td>(140.0, 165.0]</td>\n      <td>(125.999, 209.5]</td>\n      <td>(132.5, 153.0]</td>\n    </tr>\n    <tr>\n      <th>301</th>\n      <td>1</td>\n      <td>0</td>\n      <td>0</td>\n      <td>1</td>\n      <td>1</td>\n      <td>1.2</td>\n      <td>1</td>\n      <td>1</td>\n      <td>3</td>\n      <td>0</td>\n      <td>(54.0, 60.0]</td>\n      <td>(120.0, 130.0]</td>\n      <td>(125.999, 209.5]</td>\n      <td>(87.999, 132.5]</td>\n    </tr>\n    <tr>\n      <th>302</th>\n      <td>0</td>\n      <td>1</td>\n      <td>0</td>\n      <td>0</td>\n      <td>0</td>\n      <td>0.0</td>\n      <td>1</td>\n      <td>1</td>\n      <td>2</td>\n      <td>0</td>\n      <td>(54.0, 60.0]</td>\n      <td>(120.0, 130.0]</td>\n      <td>(209.5, 239.0]</td>\n      <td>(168.0, 202.0]</td>\n    </tr>\n  </tbody>\n</table>\n<p>279 rows × 14 columns</p>\n</div>",
      "text/plain": "     sex  cp  fbs  restecg  exang  oldpeak  slope  ca  thal  target  \\\n0      1   3    1        0      0      2.3      0   0     1       1   \n1      1   2    0        1      0      3.5      0   0     2       1   \n2      0   1    0        0      0      1.4      2   0     2       1   \n3      1   1    0        1      0      0.8      2   0     2       1   \n4      0   0    0        1      1      0.6      2   0     2       1   \n..   ...  ..  ...      ...    ...      ...    ...  ..   ...     ...   \n298    0   0    0        1      1      0.2      1   0     3       0   \n299    1   3    0        1      0      1.2      1   0     3       0   \n300    1   0    1        1      0      3.4      1   2     3       0   \n301    1   0    0        1      1      1.2      1   1     3       0   \n302    0   1    0        0      0      0.0      1   1     2       0   \n\n         age_binned  trestbps_binned       chol_binned   thalach_binned  \n0      (60.0, 77.0]   (140.0, 165.0]    (209.5, 239.0]   (132.5, 153.0]  \n1    (28.999, 46.0]   (120.0, 130.0]    (239.0, 269.5]   (168.0, 202.0]  \n2    (28.999, 46.0]   (120.0, 130.0]  (125.999, 209.5]   (168.0, 202.0]  \n3      (54.0, 60.0]  (93.999, 120.0]    (209.5, 239.0]   (168.0, 202.0]  \n4      (54.0, 60.0]  (93.999, 120.0]    (269.5, 360.0]   (153.0, 168.0]  \n..              ...              ...               ...              ...  \n298    (54.0, 60.0]   (130.0, 140.0]    (239.0, 269.5]  (87.999, 132.5]  \n299  (28.999, 46.0]  (93.999, 120.0]    (239.0, 269.5]  (87.999, 132.5]  \n300    (60.0, 77.0]   (140.0, 165.0]  (125.999, 209.5]   (132.5, 153.0]  \n301    (54.0, 60.0]   (120.0, 130.0]  (125.999, 209.5]  (87.999, 132.5]  \n302    (54.0, 60.0]   (120.0, 130.0]    (209.5, 239.0]   (168.0, 202.0]  \n\n[279 rows x 14 columns]"
     },
     "execution_count": 89,
     "metadata": {},
     "output_type": "execute_result"
    }
   ],
   "source": [
    "df"
   ]
  },
  {
   "cell_type": "code",
   "execution_count": 90,
   "metadata": {},
   "outputs": [
    {
     "name": "stdout",
     "output_type": "stream",
     "text": [
      "<class 'pandas.core.frame.DataFrame'>\n",
      "Int64Index: 279 entries, 0 to 302\n",
      "Data columns (total 13 columns):\n",
      " #   Column           Non-Null Count  Dtype   \n",
      "---  ------           --------------  -----   \n",
      " 0   sex              279 non-null    int64   \n",
      " 1   cp               279 non-null    int64   \n",
      " 2   fbs              279 non-null    int64   \n",
      " 3   restecg          279 non-null    int64   \n",
      " 4   exang            279 non-null    int64   \n",
      " 5   oldpeak          279 non-null    float64 \n",
      " 6   slope            279 non-null    int64   \n",
      " 7   ca               279 non-null    int64   \n",
      " 8   thal             279 non-null    int64   \n",
      " 9   age_binned       279 non-null    category\n",
      " 10  trestbps_binned  279 non-null    category\n",
      " 11  chol_binned      279 non-null    category\n",
      " 12  thalach_binned   279 non-null    category\n",
      "dtypes: category(4), float64(1), int64(8)\n",
      "memory usage: 31.9 KB\n"
     ]
    }
   ],
   "source": [
    "#x_a = df_a.iloc[:, 1:-1]\r\n",
    "Y = df.iloc[:, -5]\r\n",
    "X= df.loc[:, df.columns != 'target']\r\n",
    "#X= df.loc[:, df.columns != 'oldpeak']\r\n",
    "X.info()"
   ]
  },
  {
   "cell_type": "code",
   "execution_count": 91,
   "metadata": {},
   "outputs": [
    {
     "name": "stderr",
     "output_type": "stream",
     "text": [
      "C:\\Users\\jongala\\AppData\\Local\\Programs\\Python\\Python39\\lib\\site-packages\\category_encoders\\utils.py:21: FutureWarning:\n",
      "\n",
      "is_categorical is deprecated and will be removed in a future version.  Use is_categorical_dtype instead\n",
      "\n",
      "C:\\Users\\jongala\\AppData\\Local\\Programs\\Python\\Python39\\lib\\site-packages\\category_encoders\\utils.py:21: FutureWarning:\n",
      "\n",
      "is_categorical is deprecated and will be removed in a future version.  Use is_categorical_dtype instead\n",
      "\n",
      "C:\\Users\\jongala\\AppData\\Local\\Programs\\Python\\Python39\\lib\\site-packages\\category_encoders\\utils.py:21: FutureWarning:\n",
      "\n",
      "is_categorical is deprecated and will be removed in a future version.  Use is_categorical_dtype instead\n",
      "\n",
      "C:\\Users\\jongala\\AppData\\Local\\Programs\\Python\\Python39\\lib\\site-packages\\category_encoders\\utils.py:21: FutureWarning:\n",
      "\n",
      "is_categorical is deprecated and will be removed in a future version.  Use is_categorical_dtype instead\n",
      "\n",
      "C:\\Users\\jongala\\AppData\\Local\\Programs\\Python\\Python39\\lib\\site-packages\\category_encoders\\utils.py:21: FutureWarning:\n",
      "\n",
      "is_categorical is deprecated and will be removed in a future version.  Use is_categorical_dtype instead\n",
      "\n",
      "C:\\Users\\jongala\\AppData\\Local\\Programs\\Python\\Python39\\lib\\site-packages\\category_encoders\\utils.py:21: FutureWarning:\n",
      "\n",
      "is_categorical is deprecated and will be removed in a future version.  Use is_categorical_dtype instead\n",
      "\n",
      "C:\\Users\\jongala\\AppData\\Local\\Programs\\Python\\Python39\\lib\\site-packages\\category_encoders\\utils.py:21: FutureWarning:\n",
      "\n",
      "is_categorical is deprecated and will be removed in a future version.  Use is_categorical_dtype instead\n",
      "\n",
      "C:\\Users\\jongala\\AppData\\Local\\Programs\\Python\\Python39\\lib\\site-packages\\category_encoders\\utils.py:21: FutureWarning:\n",
      "\n",
      "is_categorical is deprecated and will be removed in a future version.  Use is_categorical_dtype instead\n",
      "\n",
      "C:\\Users\\jongala\\AppData\\Local\\Programs\\Python\\Python39\\lib\\site-packages\\category_encoders\\utils.py:21: FutureWarning:\n",
      "\n",
      "is_categorical is deprecated and will be removed in a future version.  Use is_categorical_dtype instead\n",
      "\n",
      "C:\\Users\\jongala\\AppData\\Local\\Programs\\Python\\Python39\\lib\\site-packages\\category_encoders\\utils.py:21: FutureWarning:\n",
      "\n",
      "is_categorical is deprecated and will be removed in a future version.  Use is_categorical_dtype instead\n",
      "\n",
      "C:\\Users\\jongala\\AppData\\Local\\Programs\\Python\\Python39\\lib\\site-packages\\category_encoders\\utils.py:21: FutureWarning:\n",
      "\n",
      "is_categorical is deprecated and will be removed in a future version.  Use is_categorical_dtype instead\n",
      "\n",
      "C:\\Users\\jongala\\AppData\\Local\\Programs\\Python\\Python39\\lib\\site-packages\\category_encoders\\utils.py:21: FutureWarning:\n",
      "\n",
      "is_categorical is deprecated and will be removed in a future version.  Use is_categorical_dtype instead\n",
      "\n",
      "C:\\Users\\jongala\\AppData\\Local\\Programs\\Python\\Python39\\lib\\site-packages\\category_encoders\\utils.py:21: FutureWarning:\n",
      "\n",
      "is_categorical is deprecated and will be removed in a future version.  Use is_categorical_dtype instead\n",
      "\n"
     ]
    },
    {
     "data": {
      "text/html": "<div>\n<style scoped>\n    .dataframe tbody tr th:only-of-type {\n        vertical-align: middle;\n    }\n\n    .dataframe tbody tr th {\n        vertical-align: top;\n    }\n\n    .dataframe thead th {\n        text-align: right;\n    }\n</style>\n<table border=\"1\" class=\"dataframe\">\n  <thead>\n    <tr style=\"text-align: right;\">\n      <th></th>\n      <th>sex</th>\n      <th>cp</th>\n      <th>fbs</th>\n      <th>restecg</th>\n      <th>exang</th>\n      <th>oldpeak</th>\n      <th>slope</th>\n      <th>ca</th>\n      <th>thal</th>\n      <th>age_binned</th>\n      <th>trestbps_binned</th>\n      <th>chol_binned</th>\n      <th>thalach_binned</th>\n    </tr>\n  </thead>\n  <tbody>\n    <tr>\n      <th>0</th>\n      <td>1</td>\n      <td>1</td>\n      <td>1</td>\n      <td>1</td>\n      <td>1</td>\n      <td>1</td>\n      <td>1</td>\n      <td>1</td>\n      <td>1</td>\n      <td>1</td>\n      <td>1</td>\n      <td>1</td>\n      <td>1</td>\n    </tr>\n    <tr>\n      <th>1</th>\n      <td>1</td>\n      <td>1</td>\n      <td>1</td>\n      <td>1</td>\n      <td>1</td>\n      <td>1</td>\n      <td>1</td>\n      <td>1</td>\n      <td>1</td>\n      <td>1</td>\n      <td>1</td>\n      <td>1</td>\n      <td>1</td>\n    </tr>\n    <tr>\n      <th>2</th>\n      <td>0</td>\n      <td>0</td>\n      <td>0</td>\n      <td>0</td>\n      <td>0</td>\n      <td>0</td>\n      <td>0</td>\n      <td>0</td>\n      <td>0</td>\n      <td>0</td>\n      <td>0</td>\n      <td>0</td>\n      <td>0</td>\n    </tr>\n    <tr>\n      <th>3</th>\n      <td>1</td>\n      <td>1</td>\n      <td>1</td>\n      <td>1</td>\n      <td>1</td>\n      <td>1</td>\n      <td>1</td>\n      <td>1</td>\n      <td>1</td>\n      <td>1</td>\n      <td>1</td>\n      <td>1</td>\n      <td>1</td>\n    </tr>\n    <tr>\n      <th>4</th>\n      <td>0</td>\n      <td>0</td>\n      <td>0</td>\n      <td>0</td>\n      <td>0</td>\n      <td>0</td>\n      <td>0</td>\n      <td>0</td>\n      <td>0</td>\n      <td>0</td>\n      <td>0</td>\n      <td>0</td>\n      <td>0</td>\n    </tr>\n  </tbody>\n</table>\n</div>",
      "text/plain": "   sex  cp  fbs  restecg  exang  oldpeak  slope  ca  thal  age_binned  \\\n0    1   1    1        1      1        1      1   1     1           1   \n1    1   1    1        1      1        1      1   1     1           1   \n2    0   0    0        0      0        0      0   0     0           0   \n3    1   1    1        1      1        1      1   1     1           1   \n4    0   0    0        0      0        0      0   0     0           0   \n\n   trestbps_binned  chol_binned  thalach_binned  \n0                1            1               1  \n1                1            1               1  \n2                0            0               0  \n3                1            1               1  \n4                0            0               0  "
     },
     "execution_count": 91,
     "metadata": {},
     "output_type": "execute_result"
    }
   ],
   "source": [
    "#WOE Encoder\r\n",
    "import category_encoders as ce\r\n",
    "\r\n",
    "woe = ce.WOEEncoder()\r\n",
    "\r\n",
    "def woe_encoder(col, target):\r\n",
    "    for i in range(len(X.columns)):\r\n",
    "        col.iloc[:,i] = woe.fit_transform(col, target)\r\n",
    "    return col\r\n",
    "\r\n",
    "df_woe_X = woe_encoder(X, Y)\r\n",
    "df_woe_X.head()"
   ]
  },
  {
   "cell_type": "code",
   "execution_count": 93,
   "metadata": {},
   "outputs": [
    {
     "data": {
      "image/png": "[encoded data removed]",
      "text/plain": "<Figure size 432x288 with 1 Axes>"
     },
     "metadata": {
      "needs_background": "light"
     },
     "output_type": "display_data"
    }
   ],
   "source": [
    "#PCA\r\n",
    "from sklearn.ensemble import ExtraTreesClassifier\r\n",
    "\r\n",
    "fi = ExtraTreesClassifier()\r\n",
    "fi_a = fi.fit(df_woe_X, Y)\r\n",
    "\r\n",
    "\r\n",
    "df_fi_a = pd.DataFrame(fi_a.feature_importances_,index=X.columns)\r\n",
    "df_fi_a.nlargest(10,df_fi_a.columns).plot(kind='barh')\r\n",
    "plt.show()"
   ]
  },
  {
   "cell_type": "code",
   "execution_count": 77,
   "metadata": {},
   "outputs": [
    {
     "data": {
      "text/plain": "Index(['sex', 'cp', 'fbs', 'restecg', 'exang', 'oldpeak', 'slope', 'ca',\n       'thal', 'age_binned', 'trestbps_binned', 'chol_binned',\n       'thalach_binned'],\n      dtype='object')"
     },
     "execution_count": 77,
     "metadata": {},
     "output_type": "execute_result"
    }
   ],
   "source": [
    "X.columns"
   ]
  },
  {
   "cell_type": "markdown",
   "metadata": {},
   "source": [
    "QUESTION 6 "
   ]
  },
  {
   "cell_type": "code",
   "execution_count": 94,
   "metadata": {},
   "outputs": [],
   "source": [
    "from sklearn.model_selection import train_test_split\r\n",
    "\r\n",
    "x_train, x_test, y_train, y_test = train_test_split(X, Y, test_size=0.3, random_state=1)"
   ]
  },
  {
   "cell_type": "code",
   "execution_count": 95,
   "metadata": {},
   "outputs": [
    {
     "data": {
      "text/html": "<div>\n<style scoped>\n    .dataframe tbody tr th:only-of-type {\n        vertical-align: middle;\n    }\n\n    .dataframe tbody tr th {\n        vertical-align: top;\n    }\n\n    .dataframe thead th {\n        text-align: right;\n    }\n</style>\n<table border=\"1\" class=\"dataframe\">\n  <thead>\n    <tr style=\"text-align: right;\">\n      <th></th>\n      <th>sex</th>\n      <th>cp</th>\n      <th>fbs</th>\n      <th>restecg</th>\n      <th>exang</th>\n      <th>oldpeak</th>\n      <th>slope</th>\n      <th>ca</th>\n      <th>thal</th>\n      <th>age_binned</th>\n      <th>trestbps_binned</th>\n      <th>chol_binned</th>\n      <th>thalach_binned</th>\n    </tr>\n  </thead>\n  <tbody>\n    <tr>\n      <th>0</th>\n      <td>-1.464637</td>\n      <td>-1.464637</td>\n      <td>-1.464637</td>\n      <td>-1.464637</td>\n      <td>-1.464637</td>\n      <td>-1.464637</td>\n      <td>-1.464637</td>\n      <td>-1.464637</td>\n      <td>-1.464637</td>\n      <td>-1.464637</td>\n      <td>-1.464637</td>\n      <td>-1.464637</td>\n      <td>-1.464637</td>\n    </tr>\n    <tr>\n      <th>1</th>\n      <td>-1.464637</td>\n      <td>-1.464637</td>\n      <td>-1.464637</td>\n      <td>-1.464637</td>\n      <td>-1.464637</td>\n      <td>-1.464637</td>\n      <td>-1.464637</td>\n      <td>-1.464637</td>\n      <td>-1.464637</td>\n      <td>-1.464637</td>\n      <td>-1.464637</td>\n      <td>-1.464637</td>\n      <td>-1.464637</td>\n    </tr>\n    <tr>\n      <th>2</th>\n      <td>0.682763</td>\n      <td>0.682763</td>\n      <td>0.682763</td>\n      <td>0.682763</td>\n      <td>0.682763</td>\n      <td>0.682763</td>\n      <td>0.682763</td>\n      <td>0.682763</td>\n      <td>0.682763</td>\n      <td>0.682763</td>\n      <td>0.682763</td>\n      <td>0.682763</td>\n      <td>0.682763</td>\n    </tr>\n    <tr>\n      <th>3</th>\n      <td>0.682763</td>\n      <td>0.682763</td>\n      <td>0.682763</td>\n      <td>0.682763</td>\n      <td>0.682763</td>\n      <td>0.682763</td>\n      <td>0.682763</td>\n      <td>0.682763</td>\n      <td>0.682763</td>\n      <td>0.682763</td>\n      <td>0.682763</td>\n      <td>0.682763</td>\n      <td>0.682763</td>\n    </tr>\n    <tr>\n      <th>4</th>\n      <td>-1.464637</td>\n      <td>-1.464637</td>\n      <td>-1.464637</td>\n      <td>-1.464637</td>\n      <td>-1.464637</td>\n      <td>-1.464637</td>\n      <td>-1.464637</td>\n      <td>-1.464637</td>\n      <td>-1.464637</td>\n      <td>-1.464637</td>\n      <td>-1.464637</td>\n      <td>-1.464637</td>\n      <td>-1.464637</td>\n    </tr>\n  </tbody>\n</table>\n</div>",
      "text/plain": "        sex        cp       fbs   restecg     exang   oldpeak     slope  \\\n0 -1.464637 -1.464637 -1.464637 -1.464637 -1.464637 -1.464637 -1.464637   \n1 -1.464637 -1.464637 -1.464637 -1.464637 -1.464637 -1.464637 -1.464637   \n2  0.682763  0.682763  0.682763  0.682763  0.682763  0.682763  0.682763   \n3  0.682763  0.682763  0.682763  0.682763  0.682763  0.682763  0.682763   \n4 -1.464637 -1.464637 -1.464637 -1.464637 -1.464637 -1.464637 -1.464637   \n\n         ca      thal  age_binned  trestbps_binned  chol_binned  \\\n0 -1.464637 -1.464637   -1.464637        -1.464637    -1.464637   \n1 -1.464637 -1.464637   -1.464637        -1.464637    -1.464637   \n2  0.682763  0.682763    0.682763         0.682763     0.682763   \n3  0.682763  0.682763    0.682763         0.682763     0.682763   \n4 -1.464637 -1.464637   -1.464637        -1.464637    -1.464637   \n\n   thalach_binned  \n0       -1.464637  \n1       -1.464637  \n2        0.682763  \n3        0.682763  \n4       -1.464637  "
     },
     "execution_count": 95,
     "metadata": {},
     "output_type": "execute_result"
    }
   ],
   "source": [
    "from sklearn.preprocessing import StandardScaler, RobustScaler, MinMaxScaler\r\n",
    "\r\n",
    "x_train_ss = pd.DataFrame(StandardScaler().fit_transform(x_train), columns=x_train.columns)\r\n",
    "x_train_ss.head()"
   ]
  },
  {
   "cell_type": "code",
   "execution_count": 100,
   "metadata": {},
   "outputs": [
    {
     "data": {
      "text/html": "<div>\n<style scoped>\n    .dataframe tbody tr th:only-of-type {\n        vertical-align: middle;\n    }\n\n    .dataframe tbody tr th {\n        vertical-align: top;\n    }\n\n    .dataframe thead th {\n        text-align: right;\n    }\n</style>\n<table border=\"1\" class=\"dataframe\">\n  <thead>\n    <tr style=\"text-align: right;\">\n      <th></th>\n      <th>sex</th>\n      <th>cp</th>\n      <th>fbs</th>\n      <th>restecg</th>\n      <th>exang</th>\n      <th>oldpeak</th>\n      <th>slope</th>\n      <th>ca</th>\n      <th>thal</th>\n      <th>age_binned</th>\n      <th>trestbps_binned</th>\n      <th>chol_binned</th>\n      <th>thalach_binned</th>\n    </tr>\n  </thead>\n  <tbody>\n    <tr>\n      <th>0</th>\n      <td>0.595683</td>\n      <td>0.595683</td>\n      <td>0.595683</td>\n      <td>0.595683</td>\n      <td>0.595683</td>\n      <td>0.595683</td>\n      <td>0.595683</td>\n      <td>0.595683</td>\n      <td>0.595683</td>\n      <td>0.595683</td>\n      <td>0.595683</td>\n      <td>0.595683</td>\n      <td>0.595683</td>\n    </tr>\n    <tr>\n      <th>1</th>\n      <td>0.595683</td>\n      <td>0.595683</td>\n      <td>0.595683</td>\n      <td>0.595683</td>\n      <td>0.595683</td>\n      <td>0.595683</td>\n      <td>0.595683</td>\n      <td>0.595683</td>\n      <td>0.595683</td>\n      <td>0.595683</td>\n      <td>0.595683</td>\n      <td>0.595683</td>\n      <td>0.595683</td>\n    </tr>\n    <tr>\n      <th>2</th>\n      <td>0.595683</td>\n      <td>0.595683</td>\n      <td>0.595683</td>\n      <td>0.595683</td>\n      <td>0.595683</td>\n      <td>0.595683</td>\n      <td>0.595683</td>\n      <td>0.595683</td>\n      <td>0.595683</td>\n      <td>0.595683</td>\n      <td>0.595683</td>\n      <td>0.595683</td>\n      <td>0.595683</td>\n    </tr>\n    <tr>\n      <th>3</th>\n      <td>-1.678744</td>\n      <td>-1.678744</td>\n      <td>-1.678744</td>\n      <td>-1.678744</td>\n      <td>-1.678744</td>\n      <td>-1.678744</td>\n      <td>-1.678744</td>\n      <td>-1.678744</td>\n      <td>-1.678744</td>\n      <td>-1.678744</td>\n      <td>-1.678744</td>\n      <td>-1.678744</td>\n      <td>-1.678744</td>\n    </tr>\n    <tr>\n      <th>4</th>\n      <td>0.595683</td>\n      <td>0.595683</td>\n      <td>0.595683</td>\n      <td>0.595683</td>\n      <td>0.595683</td>\n      <td>0.595683</td>\n      <td>0.595683</td>\n      <td>0.595683</td>\n      <td>0.595683</td>\n      <td>0.595683</td>\n      <td>0.595683</td>\n      <td>0.595683</td>\n      <td>0.595683</td>\n    </tr>\n  </tbody>\n</table>\n</div>",
      "text/plain": "        sex        cp       fbs   restecg     exang   oldpeak     slope  \\\n0  0.595683  0.595683  0.595683  0.595683  0.595683  0.595683  0.595683   \n1  0.595683  0.595683  0.595683  0.595683  0.595683  0.595683  0.595683   \n2  0.595683  0.595683  0.595683  0.595683  0.595683  0.595683  0.595683   \n3 -1.678744 -1.678744 -1.678744 -1.678744 -1.678744 -1.678744 -1.678744   \n4  0.595683  0.595683  0.595683  0.595683  0.595683  0.595683  0.595683   \n\n         ca      thal  age_binned  trestbps_binned  chol_binned  \\\n0  0.595683  0.595683    0.595683         0.595683     0.595683   \n1  0.595683  0.595683    0.595683         0.595683     0.595683   \n2  0.595683  0.595683    0.595683         0.595683     0.595683   \n3 -1.678744 -1.678744   -1.678744        -1.678744    -1.678744   \n4  0.595683  0.595683    0.595683         0.595683     0.595683   \n\n   thalach_binned  \n0        0.595683  \n1        0.595683  \n2        0.595683  \n3       -1.678744  \n4        0.595683  "
     },
     "execution_count": 100,
     "metadata": {},
     "output_type": "execute_result"
    }
   ],
   "source": [
    "x_test_ss = pd.DataFrame(StandardScaler().fit_transform(x_test), columns=x_test.columns)\r\n",
    "x_test_ss.head()"
   ]
  },
  {
   "cell_type": "code",
   "execution_count": null,
   "metadata": {},
   "outputs": [],
   "source": [
    "QUESTION 7"
   ]
  },
  {
   "cell_type": "code",
   "execution_count": 96,
   "metadata": {},
   "outputs": [
    {
     "name": "stdout",
     "output_type": "stream",
     "text": [
      "0.4336917562724014\n",
      "0.5663082437275986\n"
     ]
    }
   ],
   "source": [
    "target_0 = df[df.target == 0].target.count() / df.target.count()\r\n",
    "target_1 = df[df.target == 1].target.count() / df.target.count()\r\n",
    "\r\n",
    "print(target_0)\r\n",
    "print(target_1)"
   ]
  },
  {
   "cell_type": "code",
   "execution_count": 106,
   "metadata": {},
   "outputs": [
    {
     "name": "stdout",
     "output_type": "stream",
     "text": [
      "Counter({1: 114, 0: 114})\n"
     ]
    }
   ],
   "source": [
    "\r\n",
    "from imblearn.over_sampling import SMOTE\r\n",
    "from collections import Counter\r\n",
    "\r\n",
    "oversample = SMOTE()\r\n",
    "\r\n",
    "x_train_ss_over, y_train_over = oversample.fit_resample(x_train_ss, y_train)\r\n",
    "print(Counter(y_train_over))"
   ]
  },
  {
   "cell_type": "code",
   "execution_count": 107,
   "metadata": {},
   "outputs": [
    {
     "name": "stdout",
     "output_type": "stream",
     "text": [
      "Counter({1: 44, 0: 44})\n"
     ]
    }
   ],
   "source": [
    "x_test_ss_over, y_test_over = oversample.fit_resample(x_test_ss, y_test)\r\n",
    "print(Counter(y_test_over))"
   ]
  },
  {
   "cell_type": "code",
   "execution_count": null,
   "metadata": {},
   "outputs": [],
   "source": [
    "x_train_ss_over, y_train_over = oversample.fit_resample(x_train_ss, y_train)\r\n",
    "print(Counter(y_train_over))"
   ]
  },
  {
   "cell_type": "code",
   "execution_count": null,
   "metadata": {},
   "outputs": [],
   "source": [
    "QUESTION 8"
   ]
  },
  {
   "cell_type": "code",
   "execution_count": 98,
   "metadata": {},
   "outputs": [],
   "source": [
    "\r\n",
    "from sklearn.linear_model import LogisticRegression\r\n",
    "from sklearn.neighbors import KNeighborsClassifier\r\n",
    "from sklearn.svm import SVC\r\n",
    "from sklearn.tree import DecisionTreeClassifier\r\n",
    "from sklearn.ensemble import RandomForestClassifier"
   ]
  },
  {
   "cell_type": "code",
   "execution_count": 99,
   "metadata": {},
   "outputs": [],
   "source": [
    "classifiers = {\r\n",
    "    \"LogisticRegression\" : LogisticRegression(),\r\n",
    "    \"KNeighbors\" : KNeighborsClassifier(),\r\n",
    "    \"SVC\" : SVC(),\r\n",
    "    \"DecisionTree\" : DecisionTreeClassifier(),\r\n",
    "    \"RandomForest\" : RandomForestClassifier()\r\n",
    "}"
   ]
  },
  {
   "cell_type": "code",
   "execution_count": 105,
   "metadata": {},
   "outputs": [
    {
     "data": {
      "text/plain": "(88,)"
     },
     "execution_count": 105,
     "metadata": {},
     "output_type": "execute_result"
    }
   ],
   "source": [
    "y_train_over.shape"
   ]
  },
  {
   "cell_type": "code",
   "execution_count": 108,
   "metadata": {},
   "outputs": [
    {
     "name": "stdout",
     "output_type": "stream",
     "text": [
      "[0.64, 0.64, 0.64, 0.64, 0.64]\n",
      "[0.68, 0.68, 0.68, 0.68, 0.68]\n"
     ]
    }
   ],
   "source": [
    "train_scores = []\r\n",
    "test_scores = []\r\n",
    "\r\n",
    "for key, classifier in classifiers.items():\r\n",
    "    classifier.fit(x_train_ss_over, y_train_over)\r\n",
    "    train_score = round(classifier.score(x_train_ss_over, y_train_over),2)\r\n",
    "    train_scores.append(train_score)\r\n",
    "    test_score = round(classifier.score(x_test_ss_over, y_test_over),2)\r\n",
    "    test_scores.append(test_score)\r\n",
    "\r\n",
    "print(train_scores)\r\n",
    "print(test_scores)"
   ]
  },
  {
   "cell_type": "code",
   "execution_count": 110,
   "metadata": {},
   "outputs": [
    {
     "name": "stdout",
     "output_type": "stream",
     "text": [
      "[0.64, 0.58, 0.64, 0.64, 0.64]\n",
      "[0.68, 0.68, 0.68, 0.68, 0.68]\n"
     ]
    }
   ],
   "source": [
    "#%% time\r\n",
    "from sklearn.model_selection import cross_val_score\r\n",
    "\r\n",
    "train_cross_scores = []\r\n",
    "test_cross_scores = []\r\n",
    "\r\n",
    "for key, classifier in classifiers.items():\r\n",
    "    classifier.fit(x_train_ss_over, y_train_over)\r\n",
    "    train_score = cross_val_score(classifier, x_train_ss_over, y_train_over, cv=5)\r\n",
    "    train_cross_scores.append(round(train_score.mean(),2))\r\n",
    "    test_score = cross_val_score(classifier, x_test_ss_over, y_test_over, cv=5)\r\n",
    "    test_cross_scores.append(round(test_score.mean(),2))\r\n",
    "    \r\n",
    "print(train_cross_scores)\r\n",
    "\r\n",
    "print(test_cross_scores)"
   ]
  }
 ],
 "metadata": {
  "kernelspec": {
   "display_name": "Python 3.9.2 64-bit",
   "name": "python392jvsc74a57bd022dd9a7bee8e238efa5e8db43f1503fdfb7fa74c59d139fde990eca32ca837d0"
  },
  "language_info": {
   "name": "python",
   "version": ""
  },
  "orig_nbformat": 2
 },
 "nbformat": 4,
 "nbformat_minor": 2
}